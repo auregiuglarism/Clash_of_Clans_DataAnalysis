{
 "cells": [
  {
   "cell_type": "markdown",
   "metadata": {},
   "source": [
    "**Load Troop Data** "
   ]
  },
  {
   "cell_type": "code",
   "execution_count": 47,
   "metadata": {
    "ExecuteTime": {
     "end_time": "2024-03-06T15:50:40.852315Z",
     "start_time": "2024-03-06T15:50:40.747288200Z"
    }
   },
   "outputs": [
    {
     "name": "stdout",
     "output_type": "stream",
     "text": [
      "C:\\Users\\laure\\OneDrive\\Documents\\GitHub\\Clash_of_Clans_Data_Analysis\\Troop Analysis\n"
     ]
    },
    {
     "data": {
      "text/plain": "              name  housingSpace village category subCategory  \\\n0        Barbarian             1    home    troop       troop   \n1           Archer             1    home    troop       troop   \n2           Goblin             1    home    troop       troop   \n3            Giant             5    home    troop       troop   \n4     Wall Breaker             2    home    troop       troop   \n5          Balloon             5    home    troop       troop   \n6           Wizard             4    home    troop       troop   \n7           Healer            14    home    troop       troop   \n8           Dragon            20    home    troop       troop   \n9        P.E.K.K.A            25    home    troop       troop   \n10          Minion             2    home    troop       troop   \n11       Hog Rider             5    home    troop       troop   \n12        Valkyrie             8    home    troop       troop   \n13           Golem            30    home    troop       troop   \n14           Witch            12    home    troop       troop   \n15      Lava Hound            30    home    troop       troop   \n16     Baby Dragon            10    home    troop       troop   \n17  Barbarian King            25    home     hero        hero   \n18    Archer Queen            25    home     hero        hero   \n\n                                               unlock trainingTime  \\\n0   {'hall': 1, 'cost': 100, 'time': 10, 'resource...            5   \n1   {'hall': 2, 'cost': 500, 'time': 60, 'resource...            6   \n2   {'hall': 2, 'cost': 5000, 'time': 3600, 'resou...            7   \n3   {'hall': 2, 'cost': 2500, 'time': 600, 'resour...           30   \n4   {'hall': 3, 'cost': 20000, 'time': 28800, 'res...           15   \n5   {'hall': 4, 'cost': 120000, 'time': 43200, 're...           30   \n6   {'hall': 5, 'cost': 270000, 'time': 64800, 're...           30   \n7   {'hall': 6, 'cost': 800000, 'time': 86400, 're...          120   \n8   {'hall': 7, 'cost': 1000000, 'time': 129600, '...          180   \n9   {'hall': 8, 'cost': 1400000, 'time': 216000, '...          180   \n10  {'hall': 7, 'cost': 200000, 'time': 28800, 're...           18   \n11  {'hall': 7, 'cost': 600000, 'time': 86400, 're...           45   \n12  {'hall': 8, 'cost': 1000000, 'time': 129600, '...           90   \n13  {'hall': 8, 'cost': 1600000, 'time': 172800, '...          300   \n14  {'hall': 9, 'cost': 2200000, 'time': 302400, '...          120   \n15  {'hall': 9, 'cost': 2900000, 'time': 388800, '...          300   \n16  {'hall': 9, 'cost': 2600000, 'time': 345600, '...           90   \n17  {'hall': 7, 'cost': 5000, 'time': 0, 'resource...            0   \n18  {'hall': 9, 'cost': 10000, 'time': 0, 'resourc...            0   \n\n                                    regenerationTimes  \\\n0                                                  []   \n1                                                  []   \n2                                                  []   \n3                                                  []   \n4                                                  []   \n5                                                  []   \n6                                                  []   \n7                                                  []   \n8                                                  []   \n9                                                  []   \n10                                                 []   \n11                                                 []   \n12                                                 []   \n13                                                 []   \n14                                                 []   \n15                                                 []   \n16                                                 []   \n17  [600, 600, 600, 600, 720, 720, 720, 720, 720, ...   \n18  [600, 600, 600, 600, 720, 720, 720, 720, 720, ...   \n\n                                                  dps  \\\n0     [8, 11, 14, 18, 23, 26, 30, 34, 38, 42, 45, 48]   \n1      [7, 9, 12, 16, 20, 22, 25, 28, 31, 34, 37, 40]   \n2                [11, 14, 19, 24, 32, 42, 52, 62, 72]   \n3    [11, 14, 19, 24, 31, 43, 55, 62, 70, 78, 86, 94]   \n4   [6, 10, 15, 20, 43, 55, 66, 75, 86, 94, 102, 110]   \n5   [25, 32, 48, 72, 108, 162, 198, 236, 256, 276,...   \n6   [50, 70, 90, 125, 170, 185, 200, 215, 230, 245...   \n7                                                  []   \n8   [140, 160, 180, 210, 240, 270, 310, 330, 350, ...   \n9   [260, 290, 320, 360, 410, 470, 540, 610, 680, ...   \n10       [38, 41, 44, 47, 50, 54, 58, 62, 66, 70, 74]   \n11  [60, 70, 80, 92, 105, 118, 135, 148, 161, 174,...   \n12  [94, 106, 119, 133, 148, 163, 178, 193, 208, 2...   \n13  [35, 40, 45, 50, 55, 60, 65, 70, 75, 80, 85, 9...   \n14                [100, 110, 140, 160, 180, 200, 220]   \n15                           [10, 12, 14, 16, 18, 20]   \n16         [75, 85, 95, 105, 115, 125, 135, 145, 155]   \n17  [102, 104, 105, 108, 110, 112, 115, 116, 119, ...   \n18  [136, 139, 143, 146, 150, 154, 157, 162, 165, ...   \n\n                                              upgrade  minLevel  seasonal  \\\n0   {'cost': [20000, 60000, 200000, 650000, 140000...         1     False   \n1   {'cost': [30000, 80000, 300000, 800000, 200000...         1     False   \n2   {'cost': [45000, 175000, 500000, 1200000, 2000...         1     False   \n3   {'cost': [40000, 150000, 500000, 1200000, 2000...         1     False   \n4   {'cost': [100000, 250000, 600000, 1200000, 250...         1     False   \n5   {'cost': [125000, 400000, 720000, 1300000, 275...         1     False   \n6   {'cost': [120000, 320000, 620000, 1200000, 220...         1     False   \n7   {'cost': [450000, 900000, 2700000, 4200000, 80...         1     False   \n8   {'cost': [1000000, 2000000, 3000000, 3800000, ...         1     False   \n9   {'cost': [1200000, 1800000, 2800000, 3200000, ...         1     False   \n10  {'cost': [2000, 5000, 10000, 20000, 30000, 630...         1     False   \n11  {'cost': [4000, 7000, 10000, 20000, 37000, 700...         1     False   \n12  {'cost': [6000, 10000, 20000, 32000, 63000, 11...         1     False   \n13  {'cost': [8000, 12000, 20000, 37000, 53000, 77...         1     False   \n14  {'cost': [40000, 58000, 90000, 125000, 340000,...         1     False   \n15  {'cost': [28000, 43000, 85000, 120000, 160000]...         1     False   \n16  {'cost': [2000000, 2500000, 3400000, 4200000, ...         1     False   \n17  {'cost': [5000, 6000, 7000, 8000, 9000, 10000,...         1     False   \n18  {'cost': [10000, 11000, 12000, 13000, 14000, 1...         1     False   \n\n                                               levels resourceType  \n0   [1, 1, 2, 2, 3, 3, 4, 5, 6, 7, 8, 9, 9, 10, 11...          NaN  \n1   [0, 1, 2, 2, 3, 3, 4, 5, 6, 7, 8, 9, 9, 10, 11...          NaN  \n2    [0, 1, 2, 2, 3, 3, 4, 5, 6, 7, 7, 8, 8, 8, 9, 9]          NaN  \n3   [0, 1, 1, 2, 2, 3, 4, 5, 6, 7, 8, 9, 10, 10, 1...          NaN  \n4   [0, 0, 1, 2, 2, 3, 4, 5, 5, 6, 7, 8, 9, 10, 11...          NaN  \n5   [0, 0, 0, 2, 2, 3, 4, 5, 6, 6, 7, 8, 9, 10, 10...          NaN  \n6   [0, 0, 0, 0, 2, 3, 4, 5, 6, 7, 8, 9, 10, 10, 1...          NaN  \n7    [0, 0, 0, 0, 0, 1, 2, 3, 4, 4, 5, 5, 6, 7, 8, 9]          NaN  \n8   [0, 0, 0, 0, 0, 0, 2, 3, 4, 5, 6, 7, 8, 9, 10,...          NaN  \n9   [0, 0, 0, 0, 0, 0, 0, 3, 4, 6, 7, 8, 9, 9, 10,...          NaN  \n10  [0, 0, 0, 0, 0, 0, 2, 4, 5, 6, 7, 8, 9, 10, 11...          NaN  \n11  [0, 0, 0, 0, 0, 0, 2, 4, 5, 6, 7, 9, 10, 11, 1...          NaN  \n12  [0, 0, 0, 0, 0, 0, 0, 2, 4, 5, 6, 7, 8, 9, 10,...          NaN  \n13  [0, 0, 0, 0, 0, 0, 0, 2, 4, 5, 7, 9, 10, 11, 1...          NaN  \n14   [0, 0, 0, 0, 0, 0, 0, 0, 2, 3, 4, 5, 5, 5, 6, 7]          NaN  \n15   [0, 0, 0, 0, 0, 0, 0, 0, 2, 3, 4, 5, 6, 6, 6, 6]          NaN  \n16   [0, 0, 0, 0, 0, 0, 0, 0, 2, 4, 5, 6, 7, 8, 9, 9]          NaN  \n17  [0, 0, 0, 0, 0, 0, 10, 20, 30, 40, 50, 65, 75,...       Elixir  \n18  [0, 0, 0, 0, 0, 0, 0, 0, 30, 40, 50, 65, 75, 8...       Elixir  ",
      "text/html": "<div>\n<style scoped>\n    .dataframe tbody tr th:only-of-type {\n        vertical-align: middle;\n    }\n\n    .dataframe tbody tr th {\n        vertical-align: top;\n    }\n\n    .dataframe thead th {\n        text-align: right;\n    }\n</style>\n<table border=\"1\" class=\"dataframe\">\n  <thead>\n    <tr style=\"text-align: right;\">\n      <th></th>\n      <th>name</th>\n      <th>housingSpace</th>\n      <th>village</th>\n      <th>category</th>\n      <th>subCategory</th>\n      <th>unlock</th>\n      <th>trainingTime</th>\n      <th>regenerationTimes</th>\n      <th>dps</th>\n      <th>upgrade</th>\n      <th>minLevel</th>\n      <th>seasonal</th>\n      <th>levels</th>\n      <th>resourceType</th>\n    </tr>\n  </thead>\n  <tbody>\n    <tr>\n      <th>0</th>\n      <td>Barbarian</td>\n      <td>1</td>\n      <td>home</td>\n      <td>troop</td>\n      <td>troop</td>\n      <td>{'hall': 1, 'cost': 100, 'time': 10, 'resource...</td>\n      <td>5</td>\n      <td>[]</td>\n      <td>[8, 11, 14, 18, 23, 26, 30, 34, 38, 42, 45, 48]</td>\n      <td>{'cost': [20000, 60000, 200000, 650000, 140000...</td>\n      <td>1</td>\n      <td>False</td>\n      <td>[1, 1, 2, 2, 3, 3, 4, 5, 6, 7, 8, 9, 9, 10, 11...</td>\n      <td>NaN</td>\n    </tr>\n    <tr>\n      <th>1</th>\n      <td>Archer</td>\n      <td>1</td>\n      <td>home</td>\n      <td>troop</td>\n      <td>troop</td>\n      <td>{'hall': 2, 'cost': 500, 'time': 60, 'resource...</td>\n      <td>6</td>\n      <td>[]</td>\n      <td>[7, 9, 12, 16, 20, 22, 25, 28, 31, 34, 37, 40]</td>\n      <td>{'cost': [30000, 80000, 300000, 800000, 200000...</td>\n      <td>1</td>\n      <td>False</td>\n      <td>[0, 1, 2, 2, 3, 3, 4, 5, 6, 7, 8, 9, 9, 10, 11...</td>\n      <td>NaN</td>\n    </tr>\n    <tr>\n      <th>2</th>\n      <td>Goblin</td>\n      <td>1</td>\n      <td>home</td>\n      <td>troop</td>\n      <td>troop</td>\n      <td>{'hall': 2, 'cost': 5000, 'time': 3600, 'resou...</td>\n      <td>7</td>\n      <td>[]</td>\n      <td>[11, 14, 19, 24, 32, 42, 52, 62, 72]</td>\n      <td>{'cost': [45000, 175000, 500000, 1200000, 2000...</td>\n      <td>1</td>\n      <td>False</td>\n      <td>[0, 1, 2, 2, 3, 3, 4, 5, 6, 7, 7, 8, 8, 8, 9, 9]</td>\n      <td>NaN</td>\n    </tr>\n    <tr>\n      <th>3</th>\n      <td>Giant</td>\n      <td>5</td>\n      <td>home</td>\n      <td>troop</td>\n      <td>troop</td>\n      <td>{'hall': 2, 'cost': 2500, 'time': 600, 'resour...</td>\n      <td>30</td>\n      <td>[]</td>\n      <td>[11, 14, 19, 24, 31, 43, 55, 62, 70, 78, 86, 94]</td>\n      <td>{'cost': [40000, 150000, 500000, 1200000, 2000...</td>\n      <td>1</td>\n      <td>False</td>\n      <td>[0, 1, 1, 2, 2, 3, 4, 5, 6, 7, 8, 9, 10, 10, 1...</td>\n      <td>NaN</td>\n    </tr>\n    <tr>\n      <th>4</th>\n      <td>Wall Breaker</td>\n      <td>2</td>\n      <td>home</td>\n      <td>troop</td>\n      <td>troop</td>\n      <td>{'hall': 3, 'cost': 20000, 'time': 28800, 'res...</td>\n      <td>15</td>\n      <td>[]</td>\n      <td>[6, 10, 15, 20, 43, 55, 66, 75, 86, 94, 102, 110]</td>\n      <td>{'cost': [100000, 250000, 600000, 1200000, 250...</td>\n      <td>1</td>\n      <td>False</td>\n      <td>[0, 0, 1, 2, 2, 3, 4, 5, 5, 6, 7, 8, 9, 10, 11...</td>\n      <td>NaN</td>\n    </tr>\n    <tr>\n      <th>5</th>\n      <td>Balloon</td>\n      <td>5</td>\n      <td>home</td>\n      <td>troop</td>\n      <td>troop</td>\n      <td>{'hall': 4, 'cost': 120000, 'time': 43200, 're...</td>\n      <td>30</td>\n      <td>[]</td>\n      <td>[25, 32, 48, 72, 108, 162, 198, 236, 256, 276,...</td>\n      <td>{'cost': [125000, 400000, 720000, 1300000, 275...</td>\n      <td>1</td>\n      <td>False</td>\n      <td>[0, 0, 0, 2, 2, 3, 4, 5, 6, 6, 7, 8, 9, 10, 10...</td>\n      <td>NaN</td>\n    </tr>\n    <tr>\n      <th>6</th>\n      <td>Wizard</td>\n      <td>4</td>\n      <td>home</td>\n      <td>troop</td>\n      <td>troop</td>\n      <td>{'hall': 5, 'cost': 270000, 'time': 64800, 're...</td>\n      <td>30</td>\n      <td>[]</td>\n      <td>[50, 70, 90, 125, 170, 185, 200, 215, 230, 245...</td>\n      <td>{'cost': [120000, 320000, 620000, 1200000, 220...</td>\n      <td>1</td>\n      <td>False</td>\n      <td>[0, 0, 0, 0, 2, 3, 4, 5, 6, 7, 8, 9, 10, 10, 1...</td>\n      <td>NaN</td>\n    </tr>\n    <tr>\n      <th>7</th>\n      <td>Healer</td>\n      <td>14</td>\n      <td>home</td>\n      <td>troop</td>\n      <td>troop</td>\n      <td>{'hall': 6, 'cost': 800000, 'time': 86400, 're...</td>\n      <td>120</td>\n      <td>[]</td>\n      <td>[]</td>\n      <td>{'cost': [450000, 900000, 2700000, 4200000, 80...</td>\n      <td>1</td>\n      <td>False</td>\n      <td>[0, 0, 0, 0, 0, 1, 2, 3, 4, 4, 5, 5, 6, 7, 8, 9]</td>\n      <td>NaN</td>\n    </tr>\n    <tr>\n      <th>8</th>\n      <td>Dragon</td>\n      <td>20</td>\n      <td>home</td>\n      <td>troop</td>\n      <td>troop</td>\n      <td>{'hall': 7, 'cost': 1000000, 'time': 129600, '...</td>\n      <td>180</td>\n      <td>[]</td>\n      <td>[140, 160, 180, 210, 240, 270, 310, 330, 350, ...</td>\n      <td>{'cost': [1000000, 2000000, 3000000, 3800000, ...</td>\n      <td>1</td>\n      <td>False</td>\n      <td>[0, 0, 0, 0, 0, 0, 2, 3, 4, 5, 6, 7, 8, 9, 10,...</td>\n      <td>NaN</td>\n    </tr>\n    <tr>\n      <th>9</th>\n      <td>P.E.K.K.A</td>\n      <td>25</td>\n      <td>home</td>\n      <td>troop</td>\n      <td>troop</td>\n      <td>{'hall': 8, 'cost': 1400000, 'time': 216000, '...</td>\n      <td>180</td>\n      <td>[]</td>\n      <td>[260, 290, 320, 360, 410, 470, 540, 610, 680, ...</td>\n      <td>{'cost': [1200000, 1800000, 2800000, 3200000, ...</td>\n      <td>1</td>\n      <td>False</td>\n      <td>[0, 0, 0, 0, 0, 0, 0, 3, 4, 6, 7, 8, 9, 9, 10,...</td>\n      <td>NaN</td>\n    </tr>\n    <tr>\n      <th>10</th>\n      <td>Minion</td>\n      <td>2</td>\n      <td>home</td>\n      <td>troop</td>\n      <td>troop</td>\n      <td>{'hall': 7, 'cost': 200000, 'time': 28800, 're...</td>\n      <td>18</td>\n      <td>[]</td>\n      <td>[38, 41, 44, 47, 50, 54, 58, 62, 66, 70, 74]</td>\n      <td>{'cost': [2000, 5000, 10000, 20000, 30000, 630...</td>\n      <td>1</td>\n      <td>False</td>\n      <td>[0, 0, 0, 0, 0, 0, 2, 4, 5, 6, 7, 8, 9, 10, 11...</td>\n      <td>NaN</td>\n    </tr>\n    <tr>\n      <th>11</th>\n      <td>Hog Rider</td>\n      <td>5</td>\n      <td>home</td>\n      <td>troop</td>\n      <td>troop</td>\n      <td>{'hall': 7, 'cost': 600000, 'time': 86400, 're...</td>\n      <td>45</td>\n      <td>[]</td>\n      <td>[60, 70, 80, 92, 105, 118, 135, 148, 161, 174,...</td>\n      <td>{'cost': [4000, 7000, 10000, 20000, 37000, 700...</td>\n      <td>1</td>\n      <td>False</td>\n      <td>[0, 0, 0, 0, 0, 0, 2, 4, 5, 6, 7, 9, 10, 11, 1...</td>\n      <td>NaN</td>\n    </tr>\n    <tr>\n      <th>12</th>\n      <td>Valkyrie</td>\n      <td>8</td>\n      <td>home</td>\n      <td>troop</td>\n      <td>troop</td>\n      <td>{'hall': 8, 'cost': 1000000, 'time': 129600, '...</td>\n      <td>90</td>\n      <td>[]</td>\n      <td>[94, 106, 119, 133, 148, 163, 178, 193, 208, 2...</td>\n      <td>{'cost': [6000, 10000, 20000, 32000, 63000, 11...</td>\n      <td>1</td>\n      <td>False</td>\n      <td>[0, 0, 0, 0, 0, 0, 0, 2, 4, 5, 6, 7, 8, 9, 10,...</td>\n      <td>NaN</td>\n    </tr>\n    <tr>\n      <th>13</th>\n      <td>Golem</td>\n      <td>30</td>\n      <td>home</td>\n      <td>troop</td>\n      <td>troop</td>\n      <td>{'hall': 8, 'cost': 1600000, 'time': 172800, '...</td>\n      <td>300</td>\n      <td>[]</td>\n      <td>[35, 40, 45, 50, 55, 60, 65, 70, 75, 80, 85, 9...</td>\n      <td>{'cost': [8000, 12000, 20000, 37000, 53000, 77...</td>\n      <td>1</td>\n      <td>False</td>\n      <td>[0, 0, 0, 0, 0, 0, 0, 2, 4, 5, 7, 9, 10, 11, 1...</td>\n      <td>NaN</td>\n    </tr>\n    <tr>\n      <th>14</th>\n      <td>Witch</td>\n      <td>12</td>\n      <td>home</td>\n      <td>troop</td>\n      <td>troop</td>\n      <td>{'hall': 9, 'cost': 2200000, 'time': 302400, '...</td>\n      <td>120</td>\n      <td>[]</td>\n      <td>[100, 110, 140, 160, 180, 200, 220]</td>\n      <td>{'cost': [40000, 58000, 90000, 125000, 340000,...</td>\n      <td>1</td>\n      <td>False</td>\n      <td>[0, 0, 0, 0, 0, 0, 0, 0, 2, 3, 4, 5, 5, 5, 6, 7]</td>\n      <td>NaN</td>\n    </tr>\n    <tr>\n      <th>15</th>\n      <td>Lava Hound</td>\n      <td>30</td>\n      <td>home</td>\n      <td>troop</td>\n      <td>troop</td>\n      <td>{'hall': 9, 'cost': 2900000, 'time': 388800, '...</td>\n      <td>300</td>\n      <td>[]</td>\n      <td>[10, 12, 14, 16, 18, 20]</td>\n      <td>{'cost': [28000, 43000, 85000, 120000, 160000]...</td>\n      <td>1</td>\n      <td>False</td>\n      <td>[0, 0, 0, 0, 0, 0, 0, 0, 2, 3, 4, 5, 6, 6, 6, 6]</td>\n      <td>NaN</td>\n    </tr>\n    <tr>\n      <th>16</th>\n      <td>Baby Dragon</td>\n      <td>10</td>\n      <td>home</td>\n      <td>troop</td>\n      <td>troop</td>\n      <td>{'hall': 9, 'cost': 2600000, 'time': 345600, '...</td>\n      <td>90</td>\n      <td>[]</td>\n      <td>[75, 85, 95, 105, 115, 125, 135, 145, 155]</td>\n      <td>{'cost': [2000000, 2500000, 3400000, 4200000, ...</td>\n      <td>1</td>\n      <td>False</td>\n      <td>[0, 0, 0, 0, 0, 0, 0, 0, 2, 4, 5, 6, 7, 8, 9, 9]</td>\n      <td>NaN</td>\n    </tr>\n    <tr>\n      <th>17</th>\n      <td>Barbarian King</td>\n      <td>25</td>\n      <td>home</td>\n      <td>hero</td>\n      <td>hero</td>\n      <td>{'hall': 7, 'cost': 5000, 'time': 0, 'resource...</td>\n      <td>0</td>\n      <td>[600, 600, 600, 600, 720, 720, 720, 720, 720, ...</td>\n      <td>[102, 104, 105, 108, 110, 112, 115, 116, 119, ...</td>\n      <td>{'cost': [5000, 6000, 7000, 8000, 9000, 10000,...</td>\n      <td>1</td>\n      <td>False</td>\n      <td>[0, 0, 0, 0, 0, 0, 10, 20, 30, 40, 50, 65, 75,...</td>\n      <td>Elixir</td>\n    </tr>\n    <tr>\n      <th>18</th>\n      <td>Archer Queen</td>\n      <td>25</td>\n      <td>home</td>\n      <td>hero</td>\n      <td>hero</td>\n      <td>{'hall': 9, 'cost': 10000, 'time': 0, 'resourc...</td>\n      <td>0</td>\n      <td>[600, 600, 600, 600, 720, 720, 720, 720, 720, ...</td>\n      <td>[136, 139, 143, 146, 150, 154, 157, 162, 165, ...</td>\n      <td>{'cost': [10000, 11000, 12000, 13000, 14000, 1...</td>\n      <td>1</td>\n      <td>False</td>\n      <td>[0, 0, 0, 0, 0, 0, 0, 0, 30, 40, 50, 65, 75, 8...</td>\n      <td>Elixir</td>\n    </tr>\n  </tbody>\n</table>\n</div>"
     },
     "execution_count": 47,
     "metadata": {},
     "output_type": "execute_result"
    }
   ],
   "source": [
    "import pandas as pd\n",
    "import os\n",
    "\n",
    "# Load the json file using pandas\n",
    "def get_troop_data(path):\n",
    "    df = pd.read_json(path)\n",
    "    return df.drop(df.columns[0], axis=1)\n",
    "\n",
    "\n",
    "cwd = os.getcwd()\n",
    "print(cwd)\n",
    "df = get_troop_data('troopUpgradeStats.json')\n",
    "# Want to keep troups only from our main home\n",
    "df = df[df['village'] == 'home']\n",
    "# Only troops that are available all the time\n",
    "df = df[df['seasonal'] == False]\n",
    "# remove the spells\n",
    "df = df[df['category'] == 'troop']\n",
    "# remove the siege troup\n",
    "df = df[df['subCategory'] == 'troop']\n",
    "# Filter the troups above our TH level\n",
    "\n",
    "index=0\n",
    "df = df.reset_index()\n",
    "\n",
    "for i in df['unlock']:\n",
    "    if i.get('hall')>9:\n",
    "        df = df.drop(index)\n",
    "    index += 1\n",
    "df = df.reset_index()\n",
    "df.drop('level_0', axis=1, inplace=True)\n",
    "\n",
    "# Find the index of the row where the name is equal to \"Super Barbarian\" remove super troops\n",
    "index_to_keep = df[df['name'] == 'Super Barbarian'].index[0]\n",
    "df= df.iloc[:index_to_keep]\n",
    "# Add the heros to the dataframe\n",
    "\n",
    "df_heros = get_troop_data('troopUpgradeStats.json')\n",
    "df_heros = df_heros[df_heros['category'] == 'hero']\n",
    "df_heros = df_heros.head(2)\n",
    "df = pd.concat([df,df_heros])\n",
    "df = df.reset_index()\n",
    "df.drop('level_0', axis=1, inplace=True)\n",
    "df.drop('index', axis=1, inplace=True)\n",
    "df.head(20)\n",
    "#TODO we need to keep the heros in"
   ]
  },
  {
   "cell_type": "markdown",
   "source": [],
   "metadata": {
    "collapsed": false
   }
  },
  {
   "cell_type": "code",
   "execution_count": null,
   "outputs": [],
   "source": [],
   "metadata": {
    "collapsed": false
   }
  }
 ],
 "metadata": {
  "kernelspec": {
   "display_name": "Python 3",
   "language": "python",
   "name": "python3"
  },
  "language_info": {
   "codemirror_mode": {
    "name": "ipython",
    "version": 3
   },
   "file_extension": ".py",
   "mimetype": "text/x-python",
   "name": "python",
   "nbconvert_exporter": "python",
   "pygments_lexer": "ipython3",
   "version": "3.11.8"
  }
 },
 "nbformat": 4,
 "nbformat_minor": 2
}
