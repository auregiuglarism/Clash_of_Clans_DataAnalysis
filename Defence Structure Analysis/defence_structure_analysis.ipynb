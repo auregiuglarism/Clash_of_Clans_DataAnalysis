{
 "cells": [
  {
   "cell_type": "markdown",
   "metadata": {},
   "source": [
    "**Load All Defence Structure Data**"
   ]
  },
  {
   "cell_type": "code",
   "execution_count": 1,
   "outputs": [
    {
     "name": "stdout",
     "output_type": "stream",
     "text": [
      "[80, 110, 140, 160, 190, 230, 280, 320, 360, 400, 440, 500, 540, 600]\n",
      "[11, 15, 19, 25, 30, 35, 42, 48, 56, 63, 70, 75, 80, 90, 100, 105, 110, 120, 130, 138, 145]\n",
      "[24, 28, 32, 40, 48, 56, 64, 72, 84, 94, 104]\n",
      "[9, 11, 15, 19, 25, 31, 40, 48, 56, 64, 74, 85, 95, 105, 115, 120, 125, 130, 140, 150, 160]\n",
      "[34, 40, 48, 55, 64, 75, 87, 99, 110, 120, 130, 140, 150, 160]\n",
      "[4, 5, 6, 7, 9, 11, 15, 20, 25, 30, 35, 38, 42, 48, 54, 60]\n",
      "[11, 13, 16, 20, 24, 32, 40, 45, 50, 62, 70, 78, 84, 90, 95, 102]\n",
      "[60, 70, 80, 90, 110, 130, 150, 170, 190, 205, 225]\n"
     ]
    }
   ],
   "source": [
    "import csv\n",
    "import pandas as pd\n",
    "\n",
    "df = pd.DataFrame({\"Defence\": [\"Air Defense\", \"Archer Tower\", \"Bomb Tower\", \"Canon\", \"Hidden Tesla\", \"Mortar\", \"Wizard Tower\", \"X-Bow\"]})\n",
    "\n",
    "for row in df.iterrows():\n",
    "    file_name = row[1].iloc[0].replace(\" \", \"_\") + \"_data.csv\"\n",
    "    current_df = pd.read_csv(file_name)\n",
    "    \n",
    "    print(current_df[\"Damage per Second\"].to_list())\n",
    "    \n",
    "    #for current_row in current_df.iterrows(): \n",
    "        "
   ],
   "metadata": {
    "collapsed": false,
    "ExecuteTime": {
     "end_time": "2024-03-13T16:06:50.384764200Z",
     "start_time": "2024-03-13T16:06:49.404687400Z"
    }
   }
  },
  {
   "cell_type": "code",
   "execution_count": 33,
   "outputs": [
    {
     "data": {
      "text/plain": "          Defence                                              Level  \\\n0     Air Defense    [1, 2, 3, 4, 5, 6, 7, 8, 9, 10, 11, 12, 13, 14]   \n1    Archer Tower  [1, 2, 3, 4, 5, 6, 7, 8, 9, 10, 11, 12, 13, 14...   \n2      Bomb Tower                [1, 2, 3, 4, 5, 6, 7, 8, 9, 10, 11]   \n3           Canon  [1, 2, 3, 4, 5, 6, 7, 8, 9, 10, 11, 12, 13, 14...   \n4    Hidden Tesla    [1, 2, 3, 4, 5, 6, 7, 8, 9, 10, 11, 12, 13, 14]   \n5          Mortar  [1, 2, 3, 4, 5, 6, 7, 8, 9, 10, 11, 12, 13, 14...   \n6    Wizard Tower  [1, 2, 3, 4, 5, 6, 7, 8, 9, 10, 11, 12, 13, 14...   \n7           X-Bow                [1, 2, 3, 4, 5, 6, 7, 8, 9, 10, 11]   \n8  Barbarian King  [0, 0, 0, 0, 0, 0, 10, 20, 30, 40, 50, 65, 75,...   \n9    Archer Queen  [0, 0, 0, 0, 0, 0, 0, 0, 30, 40, 50, 65, 75, 8...   \n\n                                   Damage per Second  \\\n0  [80, 110, 140, 160, 190, 230, 280, 320, 360, 4...   \n1  [11, 15, 19, 25, 30, 35, 42, 48, 56, 63, 70, 7...   \n2      [24, 28, 32, 40, 48, 56, 64, 72, 84, 94, 104]   \n3  [9, 11, 15, 19, 25, 31, 40, 48, 56, 64, 74, 85...   \n4  [34, 40, 48, 55, 64, 75, 87, 99, 110, 120, 130...   \n5  [4, 5, 6, 7, 9, 11, 15, 20, 25, 30, 35, 38, 42...   \n6  [11, 13, 16, 20, 24, 32, 40, 45, 50, 62, 70, 7...   \n7  [60, 70, 80, 90, 110, 130, 150, 170, 190, 205,...   \n8  [102, 104, 105, 108, 110, 112, 115, 116, 119, ...   \n9  [136, 139, 143, 146, 150, 154, 157, 162, 165, ...   \n\n                                     Damage per Shot  \\\n0  [80, 110, 140, 160, 190, 230, 280, 320, 360, 4...   \n1  [5.5, 7.5, 9.5, 12.5, 15.0, 17.5, 21.0, 24.0, ...   \n2  [26.4, 30.8, 35.2, 44.0, 52.8, 61.6, 70.4, 79....   \n3  [7.2, 8.8, 12.0, 15.2, 20.0, 24.8, 32.0, 38.4,...   \n4  [20.4, 24.0, 28.8, 33.0, 38.4, 45.0, 52.2, 59....   \n5  [20, 25, 30, 35, 45, 55, 75, 100, 125, 150, 17...   \n6  [14.3, 16.9, 20.8, 26.0, 31.2, 41.6, 52.0, 58....   \n7  [7.68, 8.96, 10.24, 11.52, 14.08, 16.64, 19.2,...   \n8                                                NaN   \n9                                                NaN   \n\n                                           Hitpoints  \\\n0  [800, 850, 900, 950, 1,000, 1,050, 1,100, 1,21...   \n1  [380, 420, 460, 500, 540, 580, 630, 690, 750, ...   \n2  [650, 700, 750, 850, 1,050, 1,300, 1,600, 1,90...   \n3  [420, 470, 520, 570, 620, 670, 730, 800, 880, ...   \n4  [600, 630, 660, 690, 730, 770, 810, 850, 900, ...   \n5  [400, 450, 500, 550, 600, 650, 700, 800, 950, ...   \n6  [620, 650, 680, 730, 840, 960, 1,200, 1,440, 1...   \n7  [1,500, 1,900, 2,300, 2,700, 3,100, 3,400, 3,7...   \n8  [1,445, 1,481, 1,518, 1,556, 1,595, 1,635, 1,6...   \n9  [580, 592, 604, 617, 630, 643, 657, 670, 685, ...   \n\n                                          Build cost  \\\n0  [22,000, 90,000, 270,000, 500,000, 800,000, 1,...   \n1  [1,000, 2,000, 5,000, 20,000, 80,000, 150,000,...   \n2  [700,000, 1,000,000, 1,600,000, 2,000,000, 2,8...   \n3  [250, 1,000, 4,000, 16,000, 50,000, 100,000, 1...   \n4  [250,000, 350,000, 520,000, 800,000, 1,000,000...   \n5  [5,000, 25,000, 100,000, 200,000, 300,000, 560...   \n6  [120,000, 220,000, 400,000, 540,000, 700,000, ...   \n7  [1,000,000, 1,600,000, 2,400,000, 2,500,000, 3...   \n8  [5000, 6000, 7000, 8000, 9000, 10000, 11000, 1...   \n9  [10000, 11000, 12000, 13000, 14000, 15000, 160...   \n\n                                          Build time  \\\n0  [3h, 8h, 12h, 18h, 1d, 1d 12h, 2d, 2d 12h, 3d,...   \n1  [1m, 15m, 45m, 3h, 4h, 5h, 8h, 10h, 12h, 12h, ...   \n2  [18h, 1d, 1d 12h, 2d, 3d, 3d, 8d, 9d, 13d, 13d...   \n3  [10s, 2m, 10m, 45m, 1h, 2h, 4h, 8h, 10h, 10h, ...   \n4  [2h, 3h, 5h, 12h, 18h, 1d, 2d, 2d 12h, 3d, 7d ...   \n5  [3h, 6h, 12h, 18h, 1d, 2d, 2d 12h, 2d 12h, 3d,...   \n6  [3h, 3h, 8h, 12h, 18h, 1d, 1d 12h, 2d, 2d 12h,...   \n7  [2d, 2d 12h, 3d 12h, 5d, 5d 6h, 8d 12h, 9d, 9d...   \n8                                                NaN   \n9                                                NaN   \n\n                                   Experience Gained  \\\n0  [103, 169, 207, 254, 293, 360, 415, 464, 509, ...   \n1  [7, 30, 51, 103, 120, 134, 169, 189, 207, 207,...   \n2  [254, 293, 360, 415, 509, 509, 831, 881, 1,059...   \n3  [3, 10, 24, 51, 60, 84, 120, 169, 189, 189, 20...   \n4  [84, 103, 134, 207, 254, 293, 415, 464, 509, 8...   \n5  [103, 146, 207, 254, 293, 415, 464, 464, 509, ...   \n6  [103, 103, 169, 207, 254, 293, 360, 415, 464, ...   \n7  [415, 464, 549, 657, 673, 856, 881, 881, 1,059...   \n8                                                NaN   \n9                                                NaN   \n\n                            Town Hall Level Required  \n0  [4, 4, 5, 6, 7, 8, 9, 10, 11, 12, 13, 14, 15, 16]  \n1  [2, 2, 3, 4, 5, 5, 6, 7, 8, 8, 9, 10, 10, 11, ...  \n2                                                NaN  \n3  [1, 1, 2, 3, 4, 5, 6, 7, 8, 8, 9, 10, 10, 11, ...  \n4  [7, 7, 7, 8, 8, 8, 9, 10, 11, 12, 13, 13, 14, 15]  \n5  [3, 4, 5, 6, 7, 8, 9, 10, 11, 11, 12, 12, 13, ...  \n6  [5, 5, 6, 7, 8, 8, 9, 10, 10, 11, 12, 13, 13, ...  \n7          [9, 9, 9, 10, 11, 12, 13, 13, 14, 15, 16]  \n8                                                  7  \n9                                                  9  ",
      "text/html": "<div>\n<style scoped>\n    .dataframe tbody tr th:only-of-type {\n        vertical-align: middle;\n    }\n\n    .dataframe tbody tr th {\n        vertical-align: top;\n    }\n\n    .dataframe thead th {\n        text-align: right;\n    }\n</style>\n<table border=\"1\" class=\"dataframe\">\n  <thead>\n    <tr style=\"text-align: right;\">\n      <th></th>\n      <th>Defence</th>\n      <th>Level</th>\n      <th>Damage per Second</th>\n      <th>Damage per Shot</th>\n      <th>Hitpoints</th>\n      <th>Build cost</th>\n      <th>Build time</th>\n      <th>Experience Gained</th>\n      <th>Town Hall Level Required</th>\n    </tr>\n  </thead>\n  <tbody>\n    <tr>\n      <th>0</th>\n      <td>Air Defense</td>\n      <td>[1, 2, 3, 4, 5, 6, 7, 8, 9, 10, 11, 12, 13, 14]</td>\n      <td>[80, 110, 140, 160, 190, 230, 280, 320, 360, 4...</td>\n      <td>[80, 110, 140, 160, 190, 230, 280, 320, 360, 4...</td>\n      <td>[800, 850, 900, 950, 1,000, 1,050, 1,100, 1,21...</td>\n      <td>[22,000, 90,000, 270,000, 500,000, 800,000, 1,...</td>\n      <td>[3h, 8h, 12h, 18h, 1d, 1d 12h, 2d, 2d 12h, 3d,...</td>\n      <td>[103, 169, 207, 254, 293, 360, 415, 464, 509, ...</td>\n      <td>[4, 4, 5, 6, 7, 8, 9, 10, 11, 12, 13, 14, 15, 16]</td>\n    </tr>\n    <tr>\n      <th>1</th>\n      <td>Archer Tower</td>\n      <td>[1, 2, 3, 4, 5, 6, 7, 8, 9, 10, 11, 12, 13, 14...</td>\n      <td>[11, 15, 19, 25, 30, 35, 42, 48, 56, 63, 70, 7...</td>\n      <td>[5.5, 7.5, 9.5, 12.5, 15.0, 17.5, 21.0, 24.0, ...</td>\n      <td>[380, 420, 460, 500, 540, 580, 630, 690, 750, ...</td>\n      <td>[1,000, 2,000, 5,000, 20,000, 80,000, 150,000,...</td>\n      <td>[1m, 15m, 45m, 3h, 4h, 5h, 8h, 10h, 12h, 12h, ...</td>\n      <td>[7, 30, 51, 103, 120, 134, 169, 189, 207, 207,...</td>\n      <td>[2, 2, 3, 4, 5, 5, 6, 7, 8, 8, 9, 10, 10, 11, ...</td>\n    </tr>\n    <tr>\n      <th>2</th>\n      <td>Bomb Tower</td>\n      <td>[1, 2, 3, 4, 5, 6, 7, 8, 9, 10, 11]</td>\n      <td>[24, 28, 32, 40, 48, 56, 64, 72, 84, 94, 104]</td>\n      <td>[26.4, 30.8, 35.2, 44.0, 52.8, 61.6, 70.4, 79....</td>\n      <td>[650, 700, 750, 850, 1,050, 1,300, 1,600, 1,90...</td>\n      <td>[700,000, 1,000,000, 1,600,000, 2,000,000, 2,8...</td>\n      <td>[18h, 1d, 1d 12h, 2d, 3d, 3d, 8d, 9d, 13d, 13d...</td>\n      <td>[254, 293, 360, 415, 509, 509, 831, 881, 1,059...</td>\n      <td>NaN</td>\n    </tr>\n    <tr>\n      <th>3</th>\n      <td>Canon</td>\n      <td>[1, 2, 3, 4, 5, 6, 7, 8, 9, 10, 11, 12, 13, 14...</td>\n      <td>[9, 11, 15, 19, 25, 31, 40, 48, 56, 64, 74, 85...</td>\n      <td>[7.2, 8.8, 12.0, 15.2, 20.0, 24.8, 32.0, 38.4,...</td>\n      <td>[420, 470, 520, 570, 620, 670, 730, 800, 880, ...</td>\n      <td>[250, 1,000, 4,000, 16,000, 50,000, 100,000, 1...</td>\n      <td>[10s, 2m, 10m, 45m, 1h, 2h, 4h, 8h, 10h, 10h, ...</td>\n      <td>[3, 10, 24, 51, 60, 84, 120, 169, 189, 189, 20...</td>\n      <td>[1, 1, 2, 3, 4, 5, 6, 7, 8, 8, 9, 10, 10, 11, ...</td>\n    </tr>\n    <tr>\n      <th>4</th>\n      <td>Hidden Tesla</td>\n      <td>[1, 2, 3, 4, 5, 6, 7, 8, 9, 10, 11, 12, 13, 14]</td>\n      <td>[34, 40, 48, 55, 64, 75, 87, 99, 110, 120, 130...</td>\n      <td>[20.4, 24.0, 28.8, 33.0, 38.4, 45.0, 52.2, 59....</td>\n      <td>[600, 630, 660, 690, 730, 770, 810, 850, 900, ...</td>\n      <td>[250,000, 350,000, 520,000, 800,000, 1,000,000...</td>\n      <td>[2h, 3h, 5h, 12h, 18h, 1d, 2d, 2d 12h, 3d, 7d ...</td>\n      <td>[84, 103, 134, 207, 254, 293, 415, 464, 509, 8...</td>\n      <td>[7, 7, 7, 8, 8, 8, 9, 10, 11, 12, 13, 13, 14, 15]</td>\n    </tr>\n    <tr>\n      <th>5</th>\n      <td>Mortar</td>\n      <td>[1, 2, 3, 4, 5, 6, 7, 8, 9, 10, 11, 12, 13, 14...</td>\n      <td>[4, 5, 6, 7, 9, 11, 15, 20, 25, 30, 35, 38, 42...</td>\n      <td>[20, 25, 30, 35, 45, 55, 75, 100, 125, 150, 17...</td>\n      <td>[400, 450, 500, 550, 600, 650, 700, 800, 950, ...</td>\n      <td>[5,000, 25,000, 100,000, 200,000, 300,000, 560...</td>\n      <td>[3h, 6h, 12h, 18h, 1d, 2d, 2d 12h, 2d 12h, 3d,...</td>\n      <td>[103, 146, 207, 254, 293, 415, 464, 464, 509, ...</td>\n      <td>[3, 4, 5, 6, 7, 8, 9, 10, 11, 11, 12, 12, 13, ...</td>\n    </tr>\n    <tr>\n      <th>6</th>\n      <td>Wizard Tower</td>\n      <td>[1, 2, 3, 4, 5, 6, 7, 8, 9, 10, 11, 12, 13, 14...</td>\n      <td>[11, 13, 16, 20, 24, 32, 40, 45, 50, 62, 70, 7...</td>\n      <td>[14.3, 16.9, 20.8, 26.0, 31.2, 41.6, 52.0, 58....</td>\n      <td>[620, 650, 680, 730, 840, 960, 1,200, 1,440, 1...</td>\n      <td>[120,000, 220,000, 400,000, 540,000, 700,000, ...</td>\n      <td>[3h, 3h, 8h, 12h, 18h, 1d, 1d 12h, 2d, 2d 12h,...</td>\n      <td>[103, 103, 169, 207, 254, 293, 360, 415, 464, ...</td>\n      <td>[5, 5, 6, 7, 8, 8, 9, 10, 10, 11, 12, 13, 13, ...</td>\n    </tr>\n    <tr>\n      <th>7</th>\n      <td>X-Bow</td>\n      <td>[1, 2, 3, 4, 5, 6, 7, 8, 9, 10, 11]</td>\n      <td>[60, 70, 80, 90, 110, 130, 150, 170, 190, 205,...</td>\n      <td>[7.68, 8.96, 10.24, 11.52, 14.08, 16.64, 19.2,...</td>\n      <td>[1,500, 1,900, 2,300, 2,700, 3,100, 3,400, 3,7...</td>\n      <td>[1,000,000, 1,600,000, 2,400,000, 2,500,000, 3...</td>\n      <td>[2d, 2d 12h, 3d 12h, 5d, 5d 6h, 8d 12h, 9d, 9d...</td>\n      <td>[415, 464, 549, 657, 673, 856, 881, 881, 1,059...</td>\n      <td>[9, 9, 9, 10, 11, 12, 13, 13, 14, 15, 16]</td>\n    </tr>\n    <tr>\n      <th>8</th>\n      <td>Barbarian King</td>\n      <td>[0, 0, 0, 0, 0, 0, 10, 20, 30, 40, 50, 65, 75,...</td>\n      <td>[102, 104, 105, 108, 110, 112, 115, 116, 119, ...</td>\n      <td>NaN</td>\n      <td>[1,445, 1,481, 1,518, 1,556, 1,595, 1,635, 1,6...</td>\n      <td>[5000, 6000, 7000, 8000, 9000, 10000, 11000, 1...</td>\n      <td>NaN</td>\n      <td>NaN</td>\n      <td>7</td>\n    </tr>\n    <tr>\n      <th>9</th>\n      <td>Archer Queen</td>\n      <td>[0, 0, 0, 0, 0, 0, 0, 0, 30, 40, 50, 65, 75, 8...</td>\n      <td>[136, 139, 143, 146, 150, 154, 157, 162, 165, ...</td>\n      <td>NaN</td>\n      <td>[580, 592, 604, 617, 630, 643, 657, 670, 685, ...</td>\n      <td>[10000, 11000, 12000, 13000, 14000, 15000, 160...</td>\n      <td>NaN</td>\n      <td>NaN</td>\n      <td>9</td>\n    </tr>\n  </tbody>\n</table>\n</div>"
     },
     "execution_count": 33,
     "metadata": {},
     "output_type": "execute_result"
    }
   ],
   "source": [
    "import pandas as pd\n",
    "import os\n",
    "import ast\n",
    "\n",
    "def get_troop_data(path):\n",
    "    df = pd.read_json(path)\n",
    "    return df.drop(df.columns[0], axis=1)\n",
    "\n",
    "df = pd.DataFrame({\"Defence\": [\"Air Defense\", \"Archer Tower\", \"Bomb Tower\", \"Canon\", \"Hidden Tesla\", \"Mortar\", \"Wizard Tower\", \"X-Bow\"]})\n",
    "\n",
    "# Create an empty DataFrame to store the concatenated data\n",
    "concatenated_df = pd.DataFrame()\n",
    "\n",
    "for row in df.iterrows():\n",
    "    file_name = row[1].iloc[0].replace(\" \", \"_\") + \"_data.csv\"\n",
    "    if os.path.exists(file_name):  # Check if the file exists\n",
    "        df_temp = pd.read_csv(file_name)\n",
    "        df_temp.insert(0, 'Defence', row[1].iloc[0])  # Add a new column with the Defence type\n",
    "        # Grouping multiple values with the same Defence name into a list\n",
    "        df_grouped = df_temp.groupby('Defence').agg(lambda x: x.tolist()).reset_index()\n",
    "        concatenated_df = pd.concat([concatenated_df, df_grouped], ignore_index=True)\n",
    "\n",
    "# Add the heros to the dataframe\n",
    "filenames = ['../Troop Analysis/Barbarian_King.csv', '../Troop Analysis/Archer_Queen.csv']\n",
    "hitpoints_list = []\n",
    "\n",
    "for filename in filenames:\n",
    "    try:\n",
    "        current_df = pd.read_csv(filename)\n",
    "        hp_list = current_df['Hitpoints'].tolist()\n",
    "        hitpoints_list.append(hp_list)\n",
    "    except FileNotFoundError:\n",
    "        print('File not found:', filename)\n",
    "        hitpoints_list.append([])\n",
    "        continue\n",
    "\n",
    "df_heros = get_troop_data('../Troop Analysis/troopUpgradeStats.json')\n",
    "df_heros = df_heros[df_heros['category'] == 'hero']\n",
    "df_heros = df_heros.head(2)\n",
    "df_heros = df_heros.drop(['regenerationTimes','minLevel','seasonal','resourceType','housingSpace','village','category','subCategory','trainingTime'], axis=1)\n",
    "df_heros['Hitpoints'] = hitpoints_list\n",
    "df_heros.rename(columns={'name': 'Defence'}, inplace=True)\n",
    "df_heros.rename(columns={'dps': 'Damage per Second'}, inplace=True)\n",
    "df_heros.rename(columns={'levels': 'Level'}, inplace=True)\n",
    "df_heros.rename(columns={'upgrade': 'Build cost'}, inplace=True)\n",
    "df_heros.rename(columns={'unlock': 'Town Hall Level Required'}, inplace=True)\n",
    "df_heros['Build cost'] = df_heros['Build cost'].apply(lambda x: x['cost'])\n",
    "df_heros['Town Hall Level Required'] = df_heros['Town Hall Level Required'].apply(lambda x: x['hall'])\n",
    "\n",
    "\n",
    "\n",
    "concatenated_df = pd.concat([concatenated_df,df_heros])\n",
    "concatenated_df = concatenated_df.reset_index()\n",
    "concatenated_df.drop('index', axis=1, inplace=True)\n",
    "\n",
    "# Now, you have all the data concatenated in the 'concatenated_df' DataFrame with multiple values grouped into a list\n",
    "concatenated_df"
   ],
   "metadata": {
    "collapsed": false,
    "ExecuteTime": {
     "end_time": "2024-03-13T16:37:01.606292600Z",
     "start_time": "2024-03-13T16:37:01.461752900Z"
    }
   }
  },
  {
   "cell_type": "code",
   "execution_count": null,
   "outputs": [],
   "source": [],
   "metadata": {
    "collapsed": false
   }
  }
 ],
 "metadata": {
  "kernelspec": {
   "display_name": "Python 3",
   "language": "python",
   "name": "python3"
  },
  "language_info": {
   "codemirror_mode": {
    "name": "ipython",
    "version": 3
   },
   "file_extension": ".py",
   "mimetype": "text/x-python",
   "name": "python",
   "nbconvert_exporter": "python",
   "pygments_lexer": "ipython3",
   "version": "3.11.8"
  }
 },
 "nbformat": 4,
 "nbformat_minor": 2
}
